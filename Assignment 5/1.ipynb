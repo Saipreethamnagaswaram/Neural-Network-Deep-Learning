{
 "cells": [
  {
   "cell_type": "code",
   "execution_count": 1,
   "id": "eafbe250",
   "metadata": {},
   "outputs": [
    {
     "name": "stdout",
     "output_type": "stream",
     "text": [
      "(214, 10)\n",
      "Naïve Bayes\n",
      "Total number of points: 150\n",
      "Mislabeled points : 77\n",
      "Accuracy 48.67%\n",
      "\n",
      "\n",
      "              precision    recall  f1-score   support\n",
      "\n",
      "           1       0.45      0.84      0.59        51\n",
      "           2       0.50      0.21      0.29        53\n",
      "           3       0.00      0.00      0.00        14\n",
      "           5       0.38      0.33      0.35         9\n",
      "           6       1.00      0.29      0.44         7\n",
      "           7       0.67      0.88      0.76        16\n",
      "\n",
      "    accuracy                           0.49       150\n",
      "   macro avg       0.50      0.42      0.41       150\n",
      "weighted avg       0.47      0.49      0.43       150\n",
      "\n"
     ]
    }
   ],
   "source": [
    "import pandas as pd\n",
    "from sklearn.svm import SVC\n",
    "from sklearn.naive_bayes import GaussianNB\n",
    "from sklearn.model_selection import train_test_split\n",
    "import time\n",
    "import warnings\n",
    "warnings.filterwarnings(\"ignore\")\n",
    "from sklearn import metrics\n",
    "\n",
    "data = pd.read_csv('/Users/preetham/Downloads/NNDL_Code and Data/glass.csv')\n",
    "print(data.shape)\n",
    "X_train, X_test = train_test_split(data, test_size=0.7, random_state=int(time.time()))\n",
    "\n",
    "features = [\"RI\", \"Na\", \"Mg\", \"Al\", \"Si\", \"K\", \"Ca\", \"Ba\", \"Fe\"]\n",
    "\n",
    "gauss = GaussianNB()\n",
    "\n",
    "gauss.fit(X_train[features].values,X_train[\"Type\"])\n",
    "\n",
    "y_pred = gauss.predict(X_test[features])\n",
    "\n",
    "print(\"Naïve Bayes\\nTotal number of points: {}\\nMislabeled points : {}\\nAccuracy {:05.2f}%\\n\\n\"\n",
    "      .format(\n",
    "          X_test.shape[0],\n",
    "          (X_test[\"Type\"] != y_pred).sum(),\n",
    "          100 * (1 - (X_test[\"Type\"] != y_pred).sum() / X_test.shape[0])\n",
    "      ))\n",
    "\n",
    "\n",
    "print(metrics.classification_report(X_test[\"Type\"], y_pred))"
   ]
  },
  {
   "cell_type": "code",
   "execution_count": null,
   "id": "589882ef",
   "metadata": {},
   "outputs": [],
   "source": []
  }
 ],
 "metadata": {
  "kernelspec": {
   "display_name": "Python 3 (ipykernel)",
   "language": "python",
   "name": "python3"
  },
  "language_info": {
   "codemirror_mode": {
    "name": "ipython",
    "version": 3
   },
   "file_extension": ".py",
   "mimetype": "text/x-python",
   "name": "python",
   "nbconvert_exporter": "python",
   "pygments_lexer": "ipython3",
   "version": "3.9.13"
  }
 },
 "nbformat": 4,
 "nbformat_minor": 5
}
